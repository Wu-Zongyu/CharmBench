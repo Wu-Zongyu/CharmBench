{
 "cells": [
  {
   "cell_type": "code",
   "execution_count": null,
   "metadata": {},
   "outputs": [],
   "source": [
    "import os\n",
    "import numpy as np\n",
    "import pandas as pd\n",
    "import csv\n",
    "import re"
   ]
  },
  {
   "cell_type": "markdown",
   "metadata": {},
   "source": [
    "## extract answer"
   ]
  },
  {
   "cell_type": "code",
   "execution_count": null,
   "metadata": {},
   "outputs": [],
   "source": [
    "def extract_answer(text):\n",
    "    \"\"\"Extract answer letter A-D from raw_response.\"\"\"\n",
    "    cleaned = re.sub(r'[\\*\\_\\\"\\']', '', text.strip().lower())\n",
    "    patterns = [\n",
    "        r'answer\\s*[:\\-]?\\s*\\(?([a-d])\\)?',\n",
    "        r'the answer is\\s*\\(?([a-d])\\)?',\n",
    "        r'the correct answer is\\s*\\(?([a-d])\\)?',\n",
    "        r'\\b([a-d])\\b\\s+is the answer',\n",
    "        r'\\(?(answer)\\)?\\s*[:\\-]?\\s*\\(?([a-d])\\)?',\n",
    "        r'\\b([a-d])\\b\\.?$'\n",
    "    ]\n",
    "    for p in patterns:\n",
    "        match = re.search(p, cleaned, re.IGNORECASE)\n",
    "        if match:\n",
    "            return match.group(2).upper() if match.lastindex >= 2 else match.group(1).upper()\n",
    "    return \"?\""
   ]
  },
  {
   "cell_type": "markdown",
   "metadata": {},
   "source": [
    "## analyze results"
   ]
  },
  {
   "cell_type": "code",
   "execution_count": null,
   "metadata": {},
   "outputs": [],
   "source": [
    "def analyze_results(cot, nocot):\n",
    "    df=cot.merge(nocot[['index', 'raw_response']], on='index', how='inner')\n",
    "    merged=df.merge(prompt_df[['index', 'valid_options']], on='index', how='inner')\n",
    "    merged['predicted_cot']=merged['raw_response_x'].apply(lambda x: extract_answer(x))\n",
    "    merged['predicted_nocot']=merged['raw_response_y'].apply(lambda x: extract_answer(x))\n",
    "    print('acc for cot:', np.sum(merged['answer']==merged['predicted_cot'])/50)\n",
    "    print('acc for nocot:', np.sum(merged['answer']==merged['predicted_nocot'])/50)\n",
    "    ## extract cases when no_cot predictions are true but cot are wrong\n",
    "    strange_cases=merged[(merged['answer']==merged['predicted_nocot'])&(merged['answer']!=merged['predicted_cot'])]\n",
    "    ## extract cases when adding cot are correct and no cot are wrong\n",
    "    good_cases=merged[(merged['answer']==merged['predicted_cot'])&(merged['answer']!=merged['predicted_nocot'])]\n",
    "    return strange_cases, good_cases\n",
    "    "
   ]
  },
  {
   "cell_type": "code",
   "execution_count": null,
   "metadata": {},
   "outputs": [],
   "source": [
    "prompt_df=pd.read_csv('Data/prompt_df.csv')\n",
    "cot=pd.read_csv('openai_o4_mini_cot.csv')\n",
    "nocot=pd.read_csv('o4_mini_no_cot.csv')\n",
    "strange_cases, good_cases =analyze_results(cot,nocot)"
   ]
  }
 ],
 "metadata": {
  "language_info": {
   "name": "python"
  },
  "orig_nbformat": 4
 },
 "nbformat": 4,
 "nbformat_minor": 2
}
